{
 "cells": [
  {
   "cell_type": "code",
   "execution_count": null,
   "id": "3b94b5a4",
   "metadata": {},
   "outputs": [],
   "source": [
    "import cv2\n",
    "import numpy as np\n",
    "\n",
    "\n",
    "img = cv2.imread('noisy.jpg')\n",
    "median = cv2.medianBlur(img,5)\n",
    "compare = np.concatenate((img,median), axis=1)\n",
    "\n",
    "cv2.imshow('img',compare)\n",
    "cv2.waitKey(0)\n",
    "cv2.destroyAllwindows"
   ]
  },
  {
   "cell_type": "code",
   "execution_count": null,
   "id": "e7699a0c",
   "metadata": {},
   "outputs": [],
   "source": []
  }
 ],
 "metadata": {
  "kernelspec": {
   "display_name": "Python 3 (ipykernel)",
   "language": "python",
   "name": "python3"
  },
  "language_info": {
   "codemirror_mode": {
    "name": "ipython",
    "version": 3
   },
   "file_extension": ".py",
   "mimetype": "text/x-python",
   "name": "python",
   "nbconvert_exporter": "python",
   "pygments_lexer": "ipython3",
   "version": "3.9.13"
  }
 },
 "nbformat": 4,
 "nbformat_minor": 5
}
