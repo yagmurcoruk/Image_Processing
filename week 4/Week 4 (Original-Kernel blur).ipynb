{
 "cells": [
  {
   "cell_type": "code",
   "execution_count": null,
   "id": "7aaaf533",
   "metadata": {},
   "outputs": [],
   "source": [
    "import cv2\n",
    "import numpy as np\n",
    "\n",
    "#reading the image\n",
    "image = cv2.imread('image.jpg')\n",
    "kernel1 = np.ones((5 ,5), np.float32)/25\n",
    "img = cv2.filter2D(src=image, ddepth=-1, kernel=kernel1)\n",
    "cv2.imshow('original',image)\n",
    "cv2.imshow('kernel blur',img)\n",
    "\n",
    "cv2.waitKey()\n",
    "cv2.destroyAllwindows()\n"
   ]
  },
  {
   "cell_type": "code",
   "execution_count": null,
   "id": "90a2f7de",
   "metadata": {},
   "outputs": [],
   "source": []
  }
 ],
 "metadata": {
  "kernelspec": {
   "display_name": "Python 3 (ipykernel)",
   "language": "python",
   "name": "python3"
  },
  "language_info": {
   "codemirror_mode": {
    "name": "ipython",
    "version": 3
   },
   "file_extension": ".py",
   "mimetype": "text/x-python",
   "name": "python",
   "nbconvert_exporter": "python",
   "pygments_lexer": "ipython3",
   "version": "3.9.13"
  }
 },
 "nbformat": 4,
 "nbformat_minor": 5
}
