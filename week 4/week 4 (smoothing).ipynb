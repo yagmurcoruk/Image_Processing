{
 "cells": [
  {
   "cell_type": "code",
   "execution_count": null,
   "id": "2c3171cd",
   "metadata": {},
   "outputs": [],
   "source": [
    "import cv2\n",
    "import numpy as np\n",
    "path = r'kernel blur_08.11.2022.png'\n",
    "img = cv2.imread(path)\n",
    "\n",
    "im1 = cv2.blur(img,(5,5))\n",
    "im2 = cv2.boxFilter(img, -1,(2,2), normalize=True)\n",
    "\n",
    "cv2.imshow('image',np.hstack((im1,im2)))\n",
    "cv2.waitKey(0)\n",
    "cv2.destroyAllwindows()\n",
    "cv2.waitKey(1)\n"
   ]
  },
  {
   "cell_type": "code",
   "execution_count": null,
   "id": "f0574ed8",
   "metadata": {},
   "outputs": [],
   "source": []
  }
 ],
 "metadata": {
  "kernelspec": {
   "display_name": "Python 3 (ipykernel)",
   "language": "python",
   "name": "python3"
  },
  "language_info": {
   "codemirror_mode": {
    "name": "ipython",
    "version": 3
   },
   "file_extension": ".py",
   "mimetype": "text/x-python",
   "name": "python",
   "nbconvert_exporter": "python",
   "pygments_lexer": "ipython3",
   "version": "3.9.13"
  }
 },
 "nbformat": 4,
 "nbformat_minor": 5
}
