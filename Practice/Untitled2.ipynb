{
 "cells": [
  {
   "cell_type": "code",
   "execution_count": null,
   "id": "d21d4049",
   "metadata": {},
   "outputs": [],
   "source": [
    "import cv2\n",
    "import numpy as np \n",
    "import matplotlib.pyplot as plt \n",
    "\n",
    "A= np.array([[1,4,5],\n",
    "            [-5,8,9]])\n",
    "B = np.zeros((2,3))\n",
    "\n",
    "C = np.ones((2,3))\n",
    "\n",
    "\n",
    "\n",
    "print(B)\n",
    "print(\"1 le dolu olanlar \", C)\n"
   ]
  },
  {
   "cell_type": "code",
   "execution_count": null,
   "id": "735b96ac",
   "metadata": {},
   "outputs": [],
   "source": [
    "import cv2\n",
    "import numpy as np\n",
    "import matplotlib.pyplot as plt\n",
    "\n",
    "image = cv2.imread(\"ay.jpg\")\n",
    "\n",
    "print (image.size)\n",
    "print(image.dtype)\n",
    "print(image.shape)\n",
    "\n",
    "\n",
    "cv2.waitKey(0)\n",
    "cv2.destroyAllWindows()\n"
   ]
  },
  {
   "cell_type": "code",
   "execution_count": null,
   "id": "c8014107",
   "metadata": {
    "scrolled": true
   },
   "outputs": [],
   "source": [
    "# matris oluşturma \n",
    "\n",
    "import cv2\n",
    "import numpy as np\n",
    "import matplotlib.pyplot as plt\n",
    "\n",
    "row = 256\n",
    "col = 256 \n",
    "\n",
    "img = np.zeros((row,col))\n",
    "img[100:105, :] = 0.5\n",
    "img[:, 100:105] = 1\n",
    "\n",
    "\n",
    "plt.figure (figsize = (10,4))\n",
    "plt.imshow(img)\n",
    "plt.show()"
   ]
  },
  {
   "cell_type": "code",
   "execution_count": null,
   "id": "4d66325e",
   "metadata": {},
   "outputs": [],
   "source": [
    "import cv2\n",
    "import numpy as np \n",
    "import matplotlib.pyplot as plt\n",
    "\n",
    "height = 512\n",
    "width = 512\n",
    "img = np.random.randint(255,size =(height,width,1),dtype=np.uint8)\n",
    "plt.imshow(img)"
   ]
  },
  {
   "cell_type": "code",
   "execution_count": null,
   "id": "468ed99f",
   "metadata": {},
   "outputs": [],
   "source": [
    "import cv2\n",
    "import numpy as np\n",
    "import matplotlib.pyplot as plt\n",
    "\n",
    "v=[1, 3, 5, 7, 9] \n",
    "print(v[2])\n",
    "print(v[4])\n",
    "\n",
    "print(v)\n",
    "w =np.transpose(v)\n",
    "print(w)\n",
    "\n",
    "value = v[1:3]\n",
    "print(value)\n",
    "\n",
    "value1=v[3:]\n",
    "print(value1)\n",
    "\n",
    "value2 = v[0: :2]\n",
    "print(value2)\n",
    "\n",
    "value3 = v[: : -2]\n",
    "print(value3)\n",
    "\n",
    "\n",
    "\n"
   ]
  },
  {
   "cell_type": "code",
   "execution_count": null,
   "id": "7bbf848e",
   "metadata": {},
   "outputs": [],
   "source": [
    "import cv2\n",
    "import numpy as np\n",
    "import matplotlib.pyplot as plt\n",
    "\n",
    "A = np.array([[1,3,5],[2,8,7],[1,7,4]])\n",
    "B = A\n",
    "B[:,2] = 0\n",
    "print(B)"
   ]
  },
  {
   "cell_type": "code",
   "execution_count": null,
   "id": "57d533da",
   "metadata": {},
   "outputs": [],
   "source": [
    "import cv2\n",
    "import numpy as np\n",
    "import matplotlib.pyplot as plt\n",
    "\n",
    "image = cv2.imread(\"ay.jpg\",0)\n",
    "kernel1 = np.ones((5,5),np.float32)/25\n",
    "\n",
    "img = cv2.filter2D(src=image,ddepth = -1,kernel=kernel1)\n",
    "print(kernel1)\n",
    "\n",
    "plt.imshow(image)\n",
    "yan_yana = np.hstack((image,img))\n",
    "plt.imshow(yan_yana)\n",
    "\n",
    "\n",
    "cv2.waitKey(0)\n",
    "cv2.destroyAllWindows()\n",
    "\n",
    "\n",
    "\n",
    "\n",
    "\n",
    "\n"
   ]
  },
  {
   "cell_type": "code",
   "execution_count": null,
   "id": "f2bae17b",
   "metadata": {
    "scrolled": true
   },
   "outputs": [],
   "source": [
    "import cv2\n",
    "import numpy as np\n",
    "import matplotlib.pyplot as plt\n",
    "\n",
    "image = cv2.imread(\"bebek.jpg\")\n",
    "median = cv2.medianBlur(image,3)\n",
    "compare = np.concatenate((image,median),axis = 1)\n",
    "\n",
    "cv2.imshow(\"son hal \",compare)\n",
    "\n",
    "cv2.waitKey(0)\n",
    "cv2.destroyAllWindows()\n"
   ]
  },
  {
   "cell_type": "code",
   "execution_count": null,
   "id": "bff8b3e5",
   "metadata": {},
   "outputs": [],
   "source": []
  },
  {
   "cell_type": "code",
   "execution_count": null,
   "id": "de6341b6",
   "metadata": {},
   "outputs": [],
   "source": []
  }
 ],
 "metadata": {
  "kernelspec": {
   "display_name": "Python 3 (ipykernel)",
   "language": "python",
   "name": "python3"
  },
  "language_info": {
   "codemirror_mode": {
    "name": "ipython",
    "version": 3
   },
   "file_extension": ".py",
   "mimetype": "text/x-python",
   "name": "python",
   "nbconvert_exporter": "python",
   "pygments_lexer": "ipython3",
   "version": "3.9.13"
  }
 },
 "nbformat": 4,
 "nbformat_minor": 5
}
