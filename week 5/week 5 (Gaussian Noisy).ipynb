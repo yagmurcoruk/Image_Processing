{
 "cells": [
  {
   "cell_type": "code",
   "execution_count": null,
   "id": "f456cd4e",
   "metadata": {},
   "outputs": [],
   "source": [
    "# example for Gaussian Noise\n",
    "\n",
    "import numpy as np\n",
    "import cv2\n",
    "img = cv2.imread(\"image.jpg\")\n",
    "\n",
    "cv2.imshow(\"Original\",img)\n",
    "\n",
    "def gaussian_noise(image):\n",
    "    row,col,ch = image.shape\n",
    "    mean = 0\n",
    "    var = 0.05\n",
    "    sigma = var**0.5\n",
    "    gauss = np.random.normal(mean,sigma,(row,col,ch))\n",
    "    gauss = gauss.reshape(row,col,ch)\n",
    "    noisy = image + gauss\n",
    "    return noisy\n",
    "\n",
    "img = cv2.imread(\"image.jpg\")\n",
    "img = img/255\n",
    "noise_img = gaussian_noise(img)\n",
    "\n",
    "cv2.imshow(\"Gaussian Noise\",noise_img)\n",
    "cv2.waitKey(0)\n",
    "\n",
    "\n",
    "\n"
   ]
  },
  {
   "cell_type": "code",
   "execution_count": null,
   "id": "ce9b3c4d",
   "metadata": {},
   "outputs": [],
   "source": []
  }
 ],
 "metadata": {
  "kernelspec": {
   "display_name": "Python 3 (ipykernel)",
   "language": "python",
   "name": "python3"
  },
  "language_info": {
   "codemirror_mode": {
    "name": "ipython",
    "version": 3
   },
   "file_extension": ".py",
   "mimetype": "text/x-python",
   "name": "python",
   "nbconvert_exporter": "python",
   "pygments_lexer": "ipython3",
   "version": "3.9.13"
  }
 },
 "nbformat": 4,
 "nbformat_minor": 5
}
